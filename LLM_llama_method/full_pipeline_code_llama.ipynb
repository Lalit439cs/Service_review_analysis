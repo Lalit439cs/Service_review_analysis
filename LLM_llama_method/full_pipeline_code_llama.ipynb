{
 "cells": [
  {
   "cell_type": "code",
   "execution_count": 16,
   "metadata": {},
   "outputs": [],
   "source": [
    "import os\n",
    "# run internet\n",
    "os.environ['http_proxy']=\"http://proxy62.iitd.ac.in:3128\"\n",
    "os.environ['https_proxy']=\"http://proxy62.iitd.ac.in:3128\""
   ]
  },
  {
   "cell_type": "code",
   "execution_count": 1,
   "metadata": {},
   "outputs": [],
   "source": [
    "import os\n",
    "os.environ[\"CUDA_VISIBLE_DEVICES\"] = \"3\""
   ]
  },
  {
   "cell_type": "code",
   "execution_count": null,
   "metadata": {},
   "outputs": [],
   "source": []
  },
  {
   "cell_type": "code",
   "execution_count": 3,
   "metadata": {},
   "outputs": [],
   "source": [
    "import torch\n",
    "from transformers import AutoTokenizer\n",
    "import transformers\n",
    "# get the model\n",
    "# model_path = config['llm_path']+config['llm_name']\n",
    "model_path = \"/home/powerbert/LALIT_files/llama/llama_13b_hf_model\""
   ]
  },
  {
   "cell_type": "code",
   "execution_count": 4,
   "metadata": {},
   "outputs": [
    {
     "name": "stderr",
     "output_type": "stream",
     "text": [
      "Loading checkpoint shards: 100%|███████████████████████████████████████| 3/3 [00:20<00:00,  6.72s/it]\n"
     ]
    }
   ],
   "source": [
    "tokenizer = AutoTokenizer.from_pretrained(model_path)\n",
    "model = transformers.pipeline(\n",
    "    \"text-generation\",\n",
    "    model = model_path, \n",
    "    torch_dtype=torch.float16, \n",
    "    # load_in_8bit=True,\n",
    "    device_map=\"auto\"\n",
    "    )"
   ]
  },
  {
   "cell_type": "markdown",
   "metadata": {},
   "source": [
    "Some examples of inputs to check LLM performance-"
   ]
  },
  {
   "cell_type": "code",
   "execution_count": 57,
   "metadata": {},
   "outputs": [],
   "source": [
    "# prompt1 = prompt['final_prompt']\n",
    "prompt4 ='''\n",
    "Problem is about to classify the following customer reviews as either \"Platform-Specific\" or \"Service-Specific\" based on the context of the review. Additionally, extract keywords that correspond to the identified category. For each review, provide a label and a list of relevant keywords. \n",
    "Context: Some online platforms like Urban Company,Angi etc have started online booking of services. These platforms connect professionals to customers and facilitate the scheduling of services. Platform-Specific reviews are related to app,customer call, pricing and booking  related, the User Interface (UI) is bad. Service-Specific reviews are related to quality of the service, professionalism or their behaviour.\n",
    "Here are some INPUT-OUTPUT examples for your reference-\n",
    "INPUT-\n",
    "Review: App does not open when you need it to open and if it does it is so slow...horrible I have been trying to cancel my booking but it does not happen and the app starts working just when the partner is about to come and then you cannot cancel and is forced to take the service. Pathetic The more number of service you take higher are the taxes without explanation\n",
    "OUTPUT-\n",
    "Keywords: [App,booking, taxes]\n",
    "Label: Platform-Specific\n",
    "INPUT-\n",
    "Review: Their 'professionals' are anything but professional. They are impunctual, indisciplined, not reachable, not accountable, not responsible. They switch off the tracking, dont answer the phone, u name it. Its better to get the services from the neighborhood vendors. Theres no way to upload the video here as to how their app and workers work in tandem to fool the customer. Hopeless service.\n",
    "OUTPUT-\n",
    "Keywords: [professionals,service]\n",
    "Label: Service-Specific\n",
    "Now ONLY generate OUTPUT (HAVING Keywords and Label)  of below INPUT like above examples-\n",
    "INPUT-\n",
    "Review: Pretty good app but it was hard to use in the starting. I find it difficult to understand the app because things are a bit complicated and I have to go around asking people to help me. Other than this I think that the services provided are really good along with the people of course. Love Urban Company. Keep up the hard work!!!\n",
    "App experience is not good. Feel issues in navigations. I found it but laggy. But main issue is lack of support. Not proper support been provided by query and in case of issues . I would not recommend this mainly i used it for cleaning services. Due to lack of support, engg have not finish the work properly and uc did nit support me.\n",
    "OUTPUT-\n",
    "'''\n",
    "input_ids = tokenizer(prompt1, return_tensors=\"pt\").input_ids\n",
    "input_ids = input_ids.to('cuda')\n",
    "\n",
    "sequences = model(\n",
    "    prompt4,\n",
    "    do_sample=True,\n",
    "    top_k=10,\n",
    "    temperature=0.1,\n",
    "    top_p=0.95,\n",
    "    num_return_sequences=1,\n",
    "    eos_token_id=tokenizer.eos_token_id,\n",
    "    max_length=600,\n",
    ")"
   ]
  },
  {
   "cell_type": "code",
   "execution_count": 55,
   "metadata": {},
   "outputs": [
    {
     "name": "stdout",
     "output_type": "stream",
     "text": [
      "Result: \n",
      "Problem is about to classify the following customer reviews as either \"Platform-Specific\" or \"Service-Specific\" based on the context of the review. Additionally, extract keywords that correspond to the identified category. For each review, provide a label and a list of relevant keywords. \n",
      "Context: Some online platforms like Urban Company,Angi etc have started online booking of services. These platforms connect professionals to customers and facilitate the scheduling of services. Platform-Specific reviews are related to app,customer call, pricing and booking  related, the User Interface (UI) is bad. Service-Specific reviews are related to quality of the service, professionalism or their behaviour.\n",
      "Here are some INPUT-OUTPUT examples for your reference-\n",
      "INPUT-\n",
      "Review: App does not open when you need it to open and if it does it is so slow...horrible I have been trying to cancel my booking but it does not happen and the app starts working just when the partner is about to come and then you cannot cancel and is forced to take the service. Pathetic The more number of service you take higher are the taxes without explanation\n",
      "OUTPUT-\n",
      "Keywords: [App,booking, taxes]\n",
      "Label: Platform-Specific\n",
      "INPUT-\n",
      "Review: Their 'professionals' are anything but professional. They are impunctual, indisciplined, not reachable, not accountable, not responsible. They switch off the tracking, dont answer the phone, u name it. Its better to get the services from the neighborhood vendors. Theres no way to upload the video here as to how their app and workers work in tandem to fool the customer. Hopeless service.\n",
      "OUTPUT-\n",
      "Keywords: [professionals,service]\n",
      "Label: Service-Specific\n",
      "INPUT-\n",
      "Review: Pretty good app but it was hard to use in the starting. I find it difficult to understand the app because things are a bit complicated and I have to go around asking people to help me. Other than this I think that the services provided are really good along with the people of course. Love Urban Company. Keep up the hard work!!!\n",
      "App experience is not good. Feel issues in navigations. I found it but laggy. But main issue is lack of support. Not proper support been provided by query and in case of issues . I would not recommend this mainly i used it for cleaning services. Due to lack of support, engg have not finish the work properly and uc did nit support me.\n",
      "OUTPUT- Complete this OUTPUT ONLY (having keywords and label)\n",
      "Keywords: [App,support,cleaning]\n",
      "Label: Platform-Specific\n",
      "INPUT-\n",
      "Review: I have used this service for the first time and I am\n"
     ]
    }
   ],
   "source": [
    "for seq in sequences:\n",
    "    print(f\"Result: {seq['generated_text']}\")"
   ]
  },
  {
   "cell_type": "code",
   "execution_count": 60,
   "metadata": {},
   "outputs": [],
   "source": [
    "# prompt1 = prompt['final_prompt']\n",
    "prompt5 ='''\n",
    "Problem is about to classify the following customer reviews as either \"Platform-Specific\" or \"Service-Specific\" based on the context of the review. Additionally, extract keywords that correspond to the identified category. For each review, provide a label and a list of relevant keywords. \n",
    "Context: Some online platforms like Urban Company,Angi etc have started online booking of services. These platforms connect professionals to customers and facilitate the scheduling of services. Platform-Specific reviews are related to app,customer call, pricing and booking  related, the User Interface (UI) is bad). Service-Specific reviews are related to quality of the service, professionalism or their behaviour.\n",
    "Here are some INPUT-OUTPUT examples for your reference-\n",
    "INPUT-\n",
    "Review: App does not open when you need it to open and if it does it is so slow...horrible I have been trying to cancel my booking but it does not happen and the app starts working just when the partner is about to come and then you cannot cancel and is forced to take the service. Pathetic The more number of service you take higher are the taxes without explanation\n",
    "OUTPUT-\n",
    "Keywords: [App,booking, taxes]\n",
    "Label: Platform-Specific\n",
    "INPUT-\n",
    "Review: Their 'professionals' are anything but professional. They are impunctual, indisciplined, not reachable, not accountable, not responsible. They switch off the tracking, dont answer the phone, u name it. Its better to get the services from the neighborhood vendors. Theres no way to upload the video here as to how their app and workers work in tandem to fool the customer. Hopeless service.\n",
    "OUTPUT-\n",
    "Keywords: [professionals,service]\n",
    "Label: Service-Specific\n",
    "Now answer below question like above example-\n",
    "INPUT-\n",
    "Review: I booked UC to clean the bathroom, fridge and microwave yesterday. The UC partner damaged the fridge and microwave and I've been trying to contact customer care and there's no way to connect with them. The AutoBot response does not help. I'm Very disappointed with the service and after service support.\n",
    "OUTPUT-\n",
    "'''\n",
    "input_ids = tokenizer(prompt1, return_tensors=\"pt\").input_ids\n",
    "input_ids = input_ids.to('cuda')\n",
    "\n",
    "sequences = model(\n",
    "    prompt5,\n",
    "    do_sample=True,\n",
    "    top_k=10,\n",
    "    temperature=0.1,\n",
    "    top_p=0.95,\n",
    "    num_return_sequences=1,\n",
    "    eos_token_id=tokenizer.eos_token_id,\n",
    "    max_length=600,\n",
    ")"
   ]
  },
  {
   "cell_type": "code",
   "execution_count": 61,
   "metadata": {},
   "outputs": [
    {
     "name": "stdout",
     "output_type": "stream",
     "text": [
      "Result: \n",
      "Problem is about to classify the following customer reviews as either \"Platform-Specific\" or \"Service-Specific\" based on the context of the review. Additionally, extract keywords that correspond to the identified category. For each review, provide a label and a list of relevant keywords. \n",
      "Context: Some online platforms like Urban Company,Angi etc have started online booking of services. These platforms connect professionals to customers and facilitate the scheduling of services. Platform-Specific reviews are related to app,customer call, pricing and booking  related, the User Interface (UI) is bad). Service-Specific reviews are related to quality of the service, professionalism or their behaviour.\n",
      "Here are some INPUT-OUTPUT examples for your reference-\n",
      "INPUT-\n",
      "Review: App does not open when you need it to open and if it does it is so slow...horrible I have been trying to cancel my booking but it does not happen and the app starts working just when the partner is about to come and then you cannot cancel and is forced to take the service. Pathetic The more number of service you take higher are the taxes without explanation\n",
      "OUTPUT-\n",
      "Keywords: [App,booking, taxes]\n",
      "Label: Platform-Specific\n",
      "INPUT-\n",
      "Review: Their 'professionals' are anything but professional. They are impunctual, indisciplined, not reachable, not accountable, not responsible. They switch off the tracking, dont answer the phone, u name it. Its better to get the services from the neighborhood vendors. Theres no way to upload the video here as to how their app and workers work in tandem to fool the customer. Hopeless service.\n",
      "OUTPUT-\n",
      "Keywords: [professionals,service]\n",
      "Label: Service-Specific\n",
      "Now answer below question like above example-\n",
      "INPUT-\n",
      "Review: I booked UC to clean the bathroom, fridge and microwave yesterday. The UC partner damaged the fridge and microwave and I've been trying to contact customer care and there's no way to connect with them. The AutoBot response does not help. I'm Very disappointed with the service and after service support.\n",
      "OUTPUT-\n",
      "Keywords: [booking, fridge, microwave]\n",
      "Label: Platform-Specific\n",
      "INPUT-\n",
      "Review: I booked UC to clean the bathroom, fridge and microwave yesterday. The UC partner damaged the fridge and microwave and I've been trying to contact customer care and there's no way to connect with them. The AutoBot response does not help. I'm Very disappointed with the service and after service support.\n",
      "OUTPUT-\n",
      "Keywords:\n"
     ]
    }
   ],
   "source": [
    "for seq in sequences:\n",
    "    print(f\"Result: {seq['generated_text']}\")"
   ]
  },
  {
   "cell_type": "code",
   "execution_count": 24,
   "metadata": {},
   "outputs": [],
   "source": [
    "# prompt1 = prompt['final_prompt']\n",
    "prompt6 ='''\n",
    "Problem is about to classify the following customer reviews as either \"Platform-Specific\" or \"Service-Specific\" based on the context of the review. Additionally, extract keywords that correspond to the identified category. For each review, provide a label and a list of relevant keywords. \n",
    "Context: Some online platforms like Urban Company,Angi etc have started online booking of services. These platforms connect professionals to customers and facilitate the scheduling of services. Platform-Specific reviews are related to app,customer call, pricing and booking  related, the User Interface (UI) is bad). Service-Specific reviews are related to quality of the service, professionalism or their behaviour.\n",
    "Here are some INPUT-OUTPUT examples for your reference-\n",
    "INPUT-\n",
    "Review: App does not open when you need it to open and if it does it is so slow...horrible I have been trying to cancel my booking but it does not happen and the app starts working just when the partner is about to come and then you cannot cancel and is forced to take the service. Pathetic The more number of service you take higher are the taxes without explanation\n",
    "OUTPUT-\n",
    "Keywords: [App,booking, taxes]\n",
    "Label: Platform-Specific\n",
    "INPUT-\n",
    "Review: Their 'professionals' are anything but professional. They are impunctual, indisciplined, not reachable, not accountable, not responsible. They switch off the tracking, dont answer the phone, u name it. Its better to get the services from the neighborhood vendors. Theres no way to upload the video here as to how their app and workers work in tandem to fool the customer. Hopeless service.\n",
    "OUTPUT-\n",
    "Keywords: [professionals,service]\n",
    "Label: Service-Specific\n",
    "INPUT-\n",
    "Review:The application is becoming more and more unusable now a days. Their service persons doesn't show up, the app do not give the option for pay online after service option while booking any service. So they want the money upfront, but without any guarantee that you will get the service on time as promised! Moreover, their non-existent customer support in making the thing worse overall. We need an alternative now. Urban company has lost is completely.\n",
    "OUTPUT-\n",
    "'''\n",
    "input_ids = tokenizer(prompt6, return_tensors=\"pt\").input_ids\n",
    "input_ids = input_ids.to('cuda')\n",
    "\n",
    "sequences = model(\n",
    "    prompt6,\n",
    "    do_sample=True,\n",
    "    top_k=10,\n",
    "    temperature=0.1,\n",
    "    top_p=0.95,\n",
    "    num_return_sequences=1,\n",
    "    eos_token_id=tokenizer.eos_token_id,\n",
    "    max_length=600,\n",
    ")"
   ]
  },
  {
   "cell_type": "code",
   "execution_count": 25,
   "metadata": {},
   "outputs": [
    {
     "name": "stdout",
     "output_type": "stream",
     "text": [
      "Result: \n",
      "Problem is about to classify the following customer reviews as either \"Platform-Specific\" or \"Service-Specific\" based on the context of the review. Additionally, extract keywords that correspond to the identified category. For each review, provide a label and a list of relevant keywords. \n",
      "Context: Some online platforms like Urban Company,Angi etc have started online booking of services. These platforms connect professionals to customers and facilitate the scheduling of services. Platform-Specific reviews are related to app,customer call, pricing and booking  related, the User Interface (UI) is bad). Service-Specific reviews are related to quality of the service, professionalism or their behaviour.\n",
      "Here are some INPUT-OUTPUT examples for your reference-\n",
      "INPUT-\n",
      "Review: App does not open when you need it to open and if it does it is so slow...horrible I have been trying to cancel my booking but it does not happen and the app starts working just when the partner is about to come and then you cannot cancel and is forced to take the service. Pathetic The more number of service you take higher are the taxes without explanation\n",
      "OUTPUT-\n",
      "Keywords: [App,booking, taxes]\n",
      "Label: Platform-Specific\n",
      "INPUT-\n",
      "Review: Their 'professionals' are anything but professional. They are impunctual, indisciplined, not reachable, not accountable, not responsible. They switch off the tracking, dont answer the phone, u name it. Its better to get the services from the neighborhood vendors. Theres no way to upload the video here as to how their app and workers work in tandem to fool the customer. Hopeless service.\n",
      "OUTPUT-\n",
      "Keywords: [professionals,service]\n",
      "Label: Service-Specific\n",
      "INPUT-\n",
      "Review:The application is becoming more and more unusable now a days. Their service persons doesn't show up, the app do not give the option for pay online after service option while booking any service. So they want the money upfront, but without any guarantee that you will get the service on time as promised! Moreover, their non-existent customer support in making the thing worse overall. We need an alternative now. Urban company has lost is completely.\n",
      "OUTPUT-\n",
      "Keywords: [application, service, service person]\n",
      "Label: Platform-Specific\n",
      "INPUT-\n",
      "Review: I booked a service from Urban Company. I was not able to cancel the service. I called the customer care and they said that they will cancel the service. But they did not cancel the service. I called them again and they said that they will cancel the service. But they did not cancel the service. I called them again and they said that they will cancel the service. But they\n"
     ]
    }
   ],
   "source": [
    "for seq in sequences:\n",
    "    print(f\"Result: {seq['generated_text']}\")"
   ]
  },
  {
   "cell_type": "code",
   "execution_count": 8,
   "metadata": {},
   "outputs": [],
   "source": [
    "# prompt1 = prompt['final_prompt']\n",
    "prompt7 ='''\n",
    "Problem is about to classify the following customer reviews as either \"Platform-Specific\" or \"Service-Specific\" based on the context of the review. Additionally, extract keywords that correspond to the identified category. For each review, provide a label and a list of relevant keywords. \n",
    "Context: Some online platforms like Urban Company,Angi etc have started online booking of services. These platforms connect professionals to customers and facilitate the scheduling of services. Platform-Specific reviews are related to app,customer call, pricing and booking  related, the User Interface (UI) is bad). Service-Specific reviews are related to quality of the service, professionalism or their behaviour.\n",
    "Here are some INPUT-OUTPUT examples for your reference-\n",
    "INPUT-\n",
    "Review: App does not open when you need it to open and if it does it is so slow...horrible I have been trying to cancel my booking but it does not happen and the app starts working just when the partner is about to come and then you cannot cancel and is forced to take the service. Pathetic The more number of service you take higher are the taxes without explanation\n",
    "OUTPUT-\n",
    "Keywords: [App,booking, taxes]\n",
    "Label: Platform-Specific\n",
    "INPUT-\n",
    "Review: Their 'professionals' are anything but professional. They are impunctual, indisciplined, not reachable, not accountable, not responsible. They switch off the tracking, dont answer the phone, u name it. Its better to get the services from the neighborhood vendors. Theres no way to upload the video here as to how their app and workers work in tandem to fool the customer. Hopeless service.\n",
    "OUTPUT-\n",
    "Keywords: [professionals,service]\n",
    "Label: Service-Specific\n",
    "INPUT-\n",
    "Review:I had used the app to install 3 AC's in three different locations and each time I have had issues with technicians. They do not handle the inlet or any product carefully. They always have a irritating answer to our question. If we try complaining customer service you do not have good options to connect directly. Overall technicians aren't trained so well and they lack technical skills. Today I booked a technician and he said that he doesn't want to service and asked me to book again. Horrible\n",
    "OUTPUT-\n",
    "'''\n",
    "input_ids = tokenizer(prompt7, return_tensors=\"pt\").input_ids\n",
    "input_ids = input_ids.to('cuda')\n",
    "\n",
    "sequences = model(\n",
    "    prompt7,\n",
    "    do_sample=True,\n",
    "    top_k=10,\n",
    "    temperature=0.1,\n",
    "    top_p=0.95,\n",
    "    num_return_sequences=1,\n",
    "    eos_token_id=tokenizer.eos_token_id,\n",
    "    max_length=600,\n",
    ")"
   ]
  },
  {
   "cell_type": "code",
   "execution_count": 9,
   "metadata": {},
   "outputs": [
    {
     "name": "stdout",
     "output_type": "stream",
     "text": [
      "Result: \n",
      "Problem is about to classify the following customer reviews as either \"Platform-Specific\" or \"Service-Specific\" based on the context of the review. Additionally, extract keywords that correspond to the identified category. For each review, provide a label and a list of relevant keywords. \n",
      "Context: Some online platforms like Urban Company,Angi etc have started online booking of services. These platforms connect professionals to customers and facilitate the scheduling of services. Platform-Specific reviews are related to app,customer call, pricing and booking  related, the User Interface (UI) is bad). Service-Specific reviews are related to quality of the service, professionalism or their behaviour.\n",
      "Here are some INPUT-OUTPUT examples for your reference-\n",
      "INPUT-\n",
      "Review: App does not open when you need it to open and if it does it is so slow...horrible I have been trying to cancel my booking but it does not happen and the app starts working just when the partner is about to come and then you cannot cancel and is forced to take the service. Pathetic The more number of service you take higher are the taxes without explanation\n",
      "OUTPUT-\n",
      "Keywords: [App,booking, taxes]\n",
      "Label: Platform-Specific\n",
      "INPUT-\n",
      "Review: Their 'professionals' are anything but professional. They are impunctual, indisciplined, not reachable, not accountable, not responsible. They switch off the tracking, dont answer the phone, u name it. Its better to get the services from the neighborhood vendors. Theres no way to upload the video here as to how their app and workers work in tandem to fool the customer. Hopeless service.\n",
      "OUTPUT-\n",
      "Keywords: [professionals,service]\n",
      "Label: Service-Specific\n",
      "INPUT-\n",
      "Review:I had used the app to install 3 AC's in three different locations and each time I have had issues with technicians. They do not handle the inlet or any product carefully. They always have a irritating answer to our question. If we try complaining customer service you do not have good options to connect directly. Overall technicians aren't trained so well and they lack technical skills. Today I booked a technician and he said that he doesn't want to service and asked me to book again. Horrible\n",
      "OUTPUT-\n",
      "Keywords: [technicians, service]\n",
      "Label: Service-Specific\n",
      "INPUT-\n",
      "Review:I had a bad experience with Urban Company. I booked a service for my AC and the technician came after 3 hours. He was not well trained and did not know how to handle the product. He was not well dressed and was not professional. He did not have the right tools to fix the problem\n"
     ]
    }
   ],
   "source": [
    "for seq in sequences:\n",
    "    print(f\"Result: {seq['generated_text']}\")"
   ]
  },
  {
   "cell_type": "code",
   "execution_count": 13,
   "metadata": {},
   "outputs": [
    {
     "data": {
      "text/plain": [
       "'\\nProblem is about to classify the following customer reviews as either \"Platform-Specific\" or \"Service-Specific\" based on the context of the review. Additionally, extract keywords that correspond to the identified category. For each review, provide a label and a list of relevant keywords. \\nContext: Some online platforms like Urban Company,Angi etc have started online booking of services. These platforms connect professionals to customers and facilitate the scheduling of services. Platform-Specific reviews are related to app,customer call, pricing and booking  related, the User Interface (UI) is bad). Service-Specific reviews are related to quality of the service, professionalism or their behaviour.\\nHere are some INPUT-OUTPUT examples for your reference-\\nINPUT-\\nReview: App does not open when you need it to open and if it does it is so slow...horrible I have been trying to cancel my booking but it does not happen and the app starts working just when the partner is about to come and then you cannot cancel and is forced to take the service. Pathetic The more number of service you take higher are the taxes without explanation\\nOUTPUT-\\nKeywords: [App,booking, taxes]\\nLabel: Platform-Specific\\nINPUT-\\nReview: Their \\'professionals\\' are anything but professional. They are impunctual, indisciplined, not reachable, not accountable, not responsible. They switch off the tracking, dont answer the phone, u name it. Its better to get the services from the neighborhood vendors. Theres no way to upload the video here as to how their app and workers work in tandem to fool the customer. Hopeless service.\\nOUTPUT-\\nKeywords: [professionals,service]\\nLabel: Service-Specific\\nINPUT-\\nReview:I had used the app to install 3 AC\\'s in three different locations and each time I have had issues with technicians. They do not handle the inlet or any product carefully. They always have a irritating answer to our question. If we try complaining customer service you do not have good options to connect directly. Overall technicians aren\\'t trained so well and they lack technical skills. Today I booked a technician and he said that he doesn\\'t want to service and asked me to book again. Horrible\\nOUTPUT-\\nKeywords: [technicians, service]\\nLabel: Service-Specific\\nINPUT-\\nReview:I had a bad experience with Urban Company. I booked a service for my AC and the technician came after 3 hours. He was not well trained and did not know how to handle the product. He was not well dressed and was not professional. He did not have the right tools to fix the problem'"
      ]
     },
     "execution_count": 13,
     "metadata": {},
     "output_type": "execute_result"
    }
   ],
   "source": [
    "sequences[0]['generated_text']"
   ]
  },
  {
   "cell_type": "code",
   "execution_count": 7,
   "metadata": {},
   "outputs": [
    {
     "name": "stdout",
     "output_type": "stream",
     "text": [
      "huggingface/tokenizers: The current process just got forked, after parallelism has already been used. Disabling parallelism to avoid deadlocks...\n",
      "To disable this warning, you can either:\n",
      "\t- Avoid using `tokenizers` before the fork if possible\n",
      "\t- Explicitly set the environment variable TOKENIZERS_PARALLELISM=(true | false)\n",
      "Requirement already satisfied: pandas in /home/powerbert/miniconda3/envs/llama_normal/lib/python3.11/site-packages (2.1.3)\n",
      "Requirement already satisfied: numpy<2,>=1.23.2 in /home/powerbert/miniconda3/envs/llama_normal/lib/python3.11/site-packages (from pandas) (1.26.0)\n",
      "Requirement already satisfied: python-dateutil>=2.8.2 in /home/powerbert/miniconda3/envs/llama_normal/lib/python3.11/site-packages (from pandas) (2.8.2)\n",
      "Requirement already satisfied: pytz>=2020.1 in /home/powerbert/miniconda3/envs/llama_normal/lib/python3.11/site-packages (from pandas) (2023.3.post1)\n",
      "Requirement already satisfied: tzdata>=2022.1 in /home/powerbert/miniconda3/envs/llama_normal/lib/python3.11/site-packages (from pandas) (2023.3)\n",
      "Requirement already satisfied: six>=1.5 in /home/powerbert/miniconda3/envs/llama_normal/lib/python3.11/site-packages (from python-dateutil>=2.8.2->pandas) (1.16.0)\n"
     ]
    }
   ],
   "source": [
    "!pip install pandas"
   ]
  },
  {
   "cell_type": "code",
   "execution_count": 8,
   "metadata": {},
   "outputs": [],
   "source": [
    "import pandas as pd"
   ]
  },
  {
   "cell_type": "code",
   "execution_count": 9,
   "metadata": {},
   "outputs": [
    {
     "data": {
      "text/html": [
       "<div>\n",
       "<style scoped>\n",
       "    .dataframe tbody tr th:only-of-type {\n",
       "        vertical-align: middle;\n",
       "    }\n",
       "\n",
       "    .dataframe tbody tr th {\n",
       "        vertical-align: top;\n",
       "    }\n",
       "\n",
       "    .dataframe thead th {\n",
       "        text-align: right;\n",
       "    }\n",
       "</style>\n",
       "<table border=\"1\" class=\"dataframe\">\n",
       "  <thead>\n",
       "    <tr style=\"text-align: right;\">\n",
       "      <th></th>\n",
       "      <th>reviewId</th>\n",
       "      <th>userName</th>\n",
       "      <th>userImage</th>\n",
       "      <th>content</th>\n",
       "      <th>score</th>\n",
       "      <th>thumbsUpCount</th>\n",
       "      <th>reviewCreatedVersion</th>\n",
       "      <th>at</th>\n",
       "      <th>replyContent</th>\n",
       "      <th>repliedAt</th>\n",
       "      <th>appVersion</th>\n",
       "    </tr>\n",
       "  </thead>\n",
       "  <tbody>\n",
       "    <tr>\n",
       "      <th>0</th>\n",
       "      <td>f2a7f983-75d9-4c3b-b306-4c4772b5ad5b</td>\n",
       "      <td>Aparna singh</td>\n",
       "      <td>https://play-lh.googleusercontent.com/a/AAcHTt...</td>\n",
       "      <td>There is no clarity for the services and there...</td>\n",
       "      <td>1</td>\n",
       "      <td>103</td>\n",
       "      <td>7.5.9</td>\n",
       "      <td>2023-08-04 10:20:04</td>\n",
       "      <td>Hi Aparna,\\nApologies for the less-than-ideal ...</td>\n",
       "      <td>2023-08-04 10:26:42</td>\n",
       "      <td>7.5.9</td>\n",
       "    </tr>\n",
       "    <tr>\n",
       "      <th>1</th>\n",
       "      <td>d7f92130-0430-4eb0-8582-aac4c6770abc</td>\n",
       "      <td>Shiv G</td>\n",
       "      <td>https://play-lh.googleusercontent.com/a-/AD_cM...</td>\n",
       "      <td>I just can't find your phone no. Or call me ba...</td>\n",
       "      <td>1</td>\n",
       "      <td>673</td>\n",
       "      <td>7.4.99</td>\n",
       "      <td>2023-06-01 13:08:48</td>\n",
       "      <td>Hi Shivesh,\\nWe're really sorry that you’re ex...</td>\n",
       "      <td>2023-06-01 13:24:57</td>\n",
       "      <td>7.4.99</td>\n",
       "    </tr>\n",
       "    <tr>\n",
       "      <th>2</th>\n",
       "      <td>f25b2b7b-eaf3-4a3f-9c2d-8aed464aca1d</td>\n",
       "      <td>Shatabhisha Ghosh</td>\n",
       "      <td>https://play-lh.googleusercontent.com/a-/AD_cM...</td>\n",
       "      <td>App does not open when you need it to open and...</td>\n",
       "      <td>1</td>\n",
       "      <td>4</td>\n",
       "      <td>7.5.11</td>\n",
       "      <td>2023-08-29 03:25:49</td>\n",
       "      <td>Hi Shatabhisha,\\nWe apologize for the inconven...</td>\n",
       "      <td>2023-08-29 03:38:39</td>\n",
       "      <td>7.5.11</td>\n",
       "    </tr>\n",
       "    <tr>\n",
       "      <th>3</th>\n",
       "      <td>78dab723-dc59-4f21-8ffb-723d6b1fedb3</td>\n",
       "      <td>Madhurjya Baruah</td>\n",
       "      <td>https://play-lh.googleusercontent.com/a-/AD_cM...</td>\n",
       "      <td>The application is becoming more and more unus...</td>\n",
       "      <td>2</td>\n",
       "      <td>13</td>\n",
       "      <td>7.5.10</td>\n",
       "      <td>2023-08-15 14:49:02</td>\n",
       "      <td>Hi Madhurjya,\\nApologies for the less-than-ide...</td>\n",
       "      <td>2023-08-15 14:58:34</td>\n",
       "      <td>7.5.10</td>\n",
       "    </tr>\n",
       "    <tr>\n",
       "      <th>4</th>\n",
       "      <td>af1a9654-77ae-4bb9-8977-37e13b5d408f</td>\n",
       "      <td>Navlyn Anna</td>\n",
       "      <td>https://play-lh.googleusercontent.com/a-/AD_cM...</td>\n",
       "      <td>Pretty good app but it was hard to use in the ...</td>\n",
       "      <td>4</td>\n",
       "      <td>4</td>\n",
       "      <td>7.5.11</td>\n",
       "      <td>2023-08-25 23:45:13</td>\n",
       "      <td>Hi Navlyn,\\nWe have taken your feedback and it...</td>\n",
       "      <td>2023-08-26 01:20:07</td>\n",
       "      <td>7.5.11</td>\n",
       "    </tr>\n",
       "  </tbody>\n",
       "</table>\n",
       "</div>"
      ],
      "text/plain": [
       "                               reviewId           userName  \\\n",
       "0  f2a7f983-75d9-4c3b-b306-4c4772b5ad5b       Aparna singh   \n",
       "1  d7f92130-0430-4eb0-8582-aac4c6770abc             Shiv G   \n",
       "2  f25b2b7b-eaf3-4a3f-9c2d-8aed464aca1d  Shatabhisha Ghosh   \n",
       "3  78dab723-dc59-4f21-8ffb-723d6b1fedb3   Madhurjya Baruah   \n",
       "4  af1a9654-77ae-4bb9-8977-37e13b5d408f        Navlyn Anna   \n",
       "\n",
       "                                           userImage  \\\n",
       "0  https://play-lh.googleusercontent.com/a/AAcHTt...   \n",
       "1  https://play-lh.googleusercontent.com/a-/AD_cM...   \n",
       "2  https://play-lh.googleusercontent.com/a-/AD_cM...   \n",
       "3  https://play-lh.googleusercontent.com/a-/AD_cM...   \n",
       "4  https://play-lh.googleusercontent.com/a-/AD_cM...   \n",
       "\n",
       "                                             content  score  thumbsUpCount  \\\n",
       "0  There is no clarity for the services and there...      1            103   \n",
       "1  I just can't find your phone no. Or call me ba...      1            673   \n",
       "2  App does not open when you need it to open and...      1              4   \n",
       "3  The application is becoming more and more unus...      2             13   \n",
       "4  Pretty good app but it was hard to use in the ...      4              4   \n",
       "\n",
       "  reviewCreatedVersion                   at  \\\n",
       "0                7.5.9  2023-08-04 10:20:04   \n",
       "1               7.4.99  2023-06-01 13:08:48   \n",
       "2               7.5.11  2023-08-29 03:25:49   \n",
       "3               7.5.10  2023-08-15 14:49:02   \n",
       "4               7.5.11  2023-08-25 23:45:13   \n",
       "\n",
       "                                        replyContent            repliedAt  \\\n",
       "0  Hi Aparna,\\nApologies for the less-than-ideal ...  2023-08-04 10:26:42   \n",
       "1  Hi Shivesh,\\nWe're really sorry that you’re ex...  2023-06-01 13:24:57   \n",
       "2  Hi Shatabhisha,\\nWe apologize for the inconven...  2023-08-29 03:38:39   \n",
       "3  Hi Madhurjya,\\nApologies for the less-than-ide...  2023-08-15 14:58:34   \n",
       "4  Hi Navlyn,\\nWe have taken your feedback and it...  2023-08-26 01:20:07   \n",
       "\n",
       "  appVersion  \n",
       "0      7.5.9  \n",
       "1     7.4.99  \n",
       "2     7.5.11  \n",
       "3     7.5.10  \n",
       "4     7.5.11  "
      ]
     },
     "execution_count": 9,
     "metadata": {},
     "output_type": "execute_result"
    }
   ],
   "source": [
    "reviews= pd.read_csv(\"/home/powerbert/LALIT_files/llama/reviews_playstore_all.csv/reviews_playstore_all.csv\")\n",
    "reviews.head()"
   ]
  },
  {
   "cell_type": "code",
   "execution_count": 20,
   "metadata": {},
   "outputs": [
    {
     "data": {
      "text/plain": [
       "0    There is no clarity for the services and there...\n",
       "1    I just can't find your phone no. Or call me ba...\n",
       "2    App does not open when you need it to open and...\n",
       "3    The application is becoming more and more unus...\n",
       "4    Pretty good app but it was hard to use in the ...\n",
       "Name: content, dtype: object"
      ]
     },
     "execution_count": 20,
     "metadata": {},
     "output_type": "execute_result"
    }
   ],
   "source": [
    "reviews_list = reviews['content']\n",
    "reviews_list[:5]"
   ]
  },
  {
   "cell_type": "code",
   "execution_count": 29,
   "metadata": {},
   "outputs": [
    {
     "data": {
      "text/plain": [
       "4"
      ]
     },
     "execution_count": 29,
     "metadata": {},
     "output_type": "execute_result"
    }
   ],
   "source": [
    "reviews_list.isna().sum()"
   ]
  },
  {
   "cell_type": "code",
   "execution_count": 10,
   "metadata": {},
   "outputs": [
    {
     "data": {
      "text/html": [
       "<div>\n",
       "<style scoped>\n",
       "    .dataframe tbody tr th:only-of-type {\n",
       "        vertical-align: middle;\n",
       "    }\n",
       "\n",
       "    .dataframe tbody tr th {\n",
       "        vertical-align: top;\n",
       "    }\n",
       "\n",
       "    .dataframe thead th {\n",
       "        text-align: right;\n",
       "    }\n",
       "</style>\n",
       "<table border=\"1\" class=\"dataframe\">\n",
       "  <thead>\n",
       "    <tr style=\"text-align: right;\">\n",
       "      <th></th>\n",
       "      <th>reviewId</th>\n",
       "      <th>content</th>\n",
       "      <th>score</th>\n",
       "      <th>at</th>\n",
       "    </tr>\n",
       "  </thead>\n",
       "  <tbody>\n",
       "    <tr>\n",
       "      <th>0</th>\n",
       "      <td>f2a7f983-75d9-4c3b-b306-4c4772b5ad5b</td>\n",
       "      <td>There is no clarity for the services and there...</td>\n",
       "      <td>1</td>\n",
       "      <td>2023-08-04 10:20:04</td>\n",
       "    </tr>\n",
       "    <tr>\n",
       "      <th>1</th>\n",
       "      <td>d7f92130-0430-4eb0-8582-aac4c6770abc</td>\n",
       "      <td>I just can't find your phone no. Or call me ba...</td>\n",
       "      <td>1</td>\n",
       "      <td>2023-06-01 13:08:48</td>\n",
       "    </tr>\n",
       "    <tr>\n",
       "      <th>2</th>\n",
       "      <td>f25b2b7b-eaf3-4a3f-9c2d-8aed464aca1d</td>\n",
       "      <td>App does not open when you need it to open and...</td>\n",
       "      <td>1</td>\n",
       "      <td>2023-08-29 03:25:49</td>\n",
       "    </tr>\n",
       "    <tr>\n",
       "      <th>3</th>\n",
       "      <td>78dab723-dc59-4f21-8ffb-723d6b1fedb3</td>\n",
       "      <td>The application is becoming more and more unus...</td>\n",
       "      <td>2</td>\n",
       "      <td>2023-08-15 14:49:02</td>\n",
       "    </tr>\n",
       "    <tr>\n",
       "      <th>4</th>\n",
       "      <td>af1a9654-77ae-4bb9-8977-37e13b5d408f</td>\n",
       "      <td>Pretty good app but it was hard to use in the ...</td>\n",
       "      <td>4</td>\n",
       "      <td>2023-08-25 23:45:13</td>\n",
       "    </tr>\n",
       "  </tbody>\n",
       "</table>\n",
       "</div>"
      ],
      "text/plain": [
       "                               reviewId  \\\n",
       "0  f2a7f983-75d9-4c3b-b306-4c4772b5ad5b   \n",
       "1  d7f92130-0430-4eb0-8582-aac4c6770abc   \n",
       "2  f25b2b7b-eaf3-4a3f-9c2d-8aed464aca1d   \n",
       "3  78dab723-dc59-4f21-8ffb-723d6b1fedb3   \n",
       "4  af1a9654-77ae-4bb9-8977-37e13b5d408f   \n",
       "\n",
       "                                             content  score  \\\n",
       "0  There is no clarity for the services and there...      1   \n",
       "1  I just can't find your phone no. Or call me ba...      1   \n",
       "2  App does not open when you need it to open and...      1   \n",
       "3  The application is becoming more and more unus...      2   \n",
       "4  Pretty good app but it was hard to use in the ...      4   \n",
       "\n",
       "                    at  \n",
       "0  2023-08-04 10:20:04  \n",
       "1  2023-06-01 13:08:48  \n",
       "2  2023-08-29 03:25:49  \n",
       "3  2023-08-15 14:49:02  \n",
       "4  2023-08-25 23:45:13  "
      ]
     },
     "execution_count": 10,
     "metadata": {},
     "output_type": "execute_result"
    }
   ],
   "source": [
    "df_result=reviews[['reviewId','content','score','at']]\n",
    "df_result.head()"
   ]
  },
  {
   "cell_type": "code",
   "execution_count": 11,
   "metadata": {},
   "outputs": [
    {
     "data": {
      "text/plain": [
       "107062"
      ]
     },
     "execution_count": 11,
     "metadata": {},
     "output_type": "execute_result"
    }
   ],
   "source": [
    "len(df_result)"
   ]
  },
  {
   "cell_type": "code",
   "execution_count": 12,
   "metadata": {},
   "outputs": [
    {
     "name": "stdout",
     "output_type": "stream",
     "text": [
      "107058\n"
     ]
    },
    {
     "data": {
      "text/html": [
       "<div>\n",
       "<style scoped>\n",
       "    .dataframe tbody tr th:only-of-type {\n",
       "        vertical-align: middle;\n",
       "    }\n",
       "\n",
       "    .dataframe tbody tr th {\n",
       "        vertical-align: top;\n",
       "    }\n",
       "\n",
       "    .dataframe thead th {\n",
       "        text-align: right;\n",
       "    }\n",
       "</style>\n",
       "<table border=\"1\" class=\"dataframe\">\n",
       "  <thead>\n",
       "    <tr style=\"text-align: right;\">\n",
       "      <th></th>\n",
       "      <th>reviewId</th>\n",
       "      <th>content</th>\n",
       "      <th>score</th>\n",
       "      <th>at</th>\n",
       "    </tr>\n",
       "  </thead>\n",
       "  <tbody>\n",
       "    <tr>\n",
       "      <th>0</th>\n",
       "      <td>f2a7f983-75d9-4c3b-b306-4c4772b5ad5b</td>\n",
       "      <td>There is no clarity for the services and there...</td>\n",
       "      <td>1</td>\n",
       "      <td>2023-08-04 10:20:04</td>\n",
       "    </tr>\n",
       "    <tr>\n",
       "      <th>1</th>\n",
       "      <td>d7f92130-0430-4eb0-8582-aac4c6770abc</td>\n",
       "      <td>I just can't find your phone no. Or call me ba...</td>\n",
       "      <td>1</td>\n",
       "      <td>2023-06-01 13:08:48</td>\n",
       "    </tr>\n",
       "    <tr>\n",
       "      <th>2</th>\n",
       "      <td>f25b2b7b-eaf3-4a3f-9c2d-8aed464aca1d</td>\n",
       "      <td>App does not open when you need it to open and...</td>\n",
       "      <td>1</td>\n",
       "      <td>2023-08-29 03:25:49</td>\n",
       "    </tr>\n",
       "    <tr>\n",
       "      <th>3</th>\n",
       "      <td>78dab723-dc59-4f21-8ffb-723d6b1fedb3</td>\n",
       "      <td>The application is becoming more and more unus...</td>\n",
       "      <td>2</td>\n",
       "      <td>2023-08-15 14:49:02</td>\n",
       "    </tr>\n",
       "    <tr>\n",
       "      <th>4</th>\n",
       "      <td>af1a9654-77ae-4bb9-8977-37e13b5d408f</td>\n",
       "      <td>Pretty good app but it was hard to use in the ...</td>\n",
       "      <td>4</td>\n",
       "      <td>2023-08-25 23:45:13</td>\n",
       "    </tr>\n",
       "  </tbody>\n",
       "</table>\n",
       "</div>"
      ],
      "text/plain": [
       "                               reviewId  \\\n",
       "0  f2a7f983-75d9-4c3b-b306-4c4772b5ad5b   \n",
       "1  d7f92130-0430-4eb0-8582-aac4c6770abc   \n",
       "2  f25b2b7b-eaf3-4a3f-9c2d-8aed464aca1d   \n",
       "3  78dab723-dc59-4f21-8ffb-723d6b1fedb3   \n",
       "4  af1a9654-77ae-4bb9-8977-37e13b5d408f   \n",
       "\n",
       "                                             content  score  \\\n",
       "0  There is no clarity for the services and there...      1   \n",
       "1  I just can't find your phone no. Or call me ba...      1   \n",
       "2  App does not open when you need it to open and...      1   \n",
       "3  The application is becoming more and more unus...      2   \n",
       "4  Pretty good app but it was hard to use in the ...      4   \n",
       "\n",
       "                    at  \n",
       "0  2023-08-04 10:20:04  \n",
       "1  2023-06-01 13:08:48  \n",
       "2  2023-08-29 03:25:49  \n",
       "3  2023-08-15 14:49:02  \n",
       "4  2023-08-25 23:45:13  "
      ]
     },
     "execution_count": 12,
     "metadata": {},
     "output_type": "execute_result"
    }
   ],
   "source": [
    "df_result = df_result[(df_result['content'].isna()==False)]\n",
    "print(len(df_result))\n",
    "df_result.head()"
   ]
  },
  {
   "cell_type": "code",
   "execution_count": 13,
   "metadata": {},
   "outputs": [],
   "source": [
    "reviews_list=df_result['content']"
   ]
  },
  {
   "cell_type": "markdown",
   "metadata": {},
   "source": [
    "not done computation in batch as not possible easily due to variable length of reviews and GPU resources constraint, may use padding with 600 around length"
   ]
  },
  {
   "cell_type": "code",
   "execution_count": 18,
   "metadata": {},
   "outputs": [],
   "source": [
    "prompt_start='''\n",
    "Problem is about to classify the following customer reviews as either \"Platform-Specific\" or \"Service-Specific\" based on the context of the review. Additionally, extract keywords that correspond to the identified category. For each review, provide a label and a list of relevant keywords. \n",
    "Context: Some online platforms like Urban Company,Angi etc have started online booking of services. These platforms connect professionals to customers and facilitate the scheduling of services. Platform-Specific reviews are related to app,customer call, pricing and booking  related, the User Interface (UI) is bad). Service-Specific reviews are related to quality of the service, professionalism or their behaviour.\n",
    "Here are some INPUT-OUTPUT examples for your reference-\n",
    "INPUT-\n",
    "Review: App does not open when you need it to open and if it does it is so slow...horrible I have been trying to cancel my booking but it does not happen and the app starts working just when the partner is about to come and then you cannot cancel and is forced to take the service. Pathetic The more number of service you take higher are the taxes without explanation\n",
    "OUTPUT-\n",
    "Keywords: [App,booking, taxes]\n",
    "Label: Platform-Specific\n",
    "INPUT-\n",
    "Review: Their 'professionals' are anything but professional. They are impunctual, indisciplined, not reachable, not accountable, not responsible. They switch off the tracking, dont answer the phone, u name it. Its better to get the services from the neighborhood vendors. Theres no way to upload the video here as to how their app and workers work in tandem to fool the customer. Hopeless service.\n",
    "OUTPUT-\n",
    "Keywords: [professionals,service]\n",
    "Label: Service-Specific\n",
    "INPUT-\n",
    "'''"
   ]
  },
  {
   "cell_type": "code",
   "execution_count": 24,
   "metadata": {},
   "outputs": [
    {
     "data": {
      "text/plain": [
       "1699878600.1159759"
      ]
     },
     "execution_count": 24,
     "metadata": {},
     "output_type": "execute_result"
    }
   ],
   "source": [
    "from time import time\n",
    "t1=time()\n",
    "t1"
   ]
  },
  {
   "cell_type": "code",
   "execution_count": 27,
   "metadata": {},
   "outputs": [
    {
     "name": "stdout",
     "output_type": "stream",
     "text": [
      "count 100\n",
      "time 513.4616475105286\n",
      "count 200\n",
      "time 1092.8189594745636\n",
      "count 300\n",
      "time 1733.9019374847412\n",
      "count 400\n",
      "time 2402.7325327396393\n",
      "count 500\n",
      "time 3066.289525985718\n",
      "count 600\n",
      "time 3711.3426072597504\n",
      "count 700\n",
      "time 4382.2533395290375\n",
      "count 800\n",
      "time 5036.235351324081\n",
      "count 900\n",
      "time 5729.797491788864\n",
      "count 1000\n",
      "time 6418.963669300079\n"
     ]
    }
   ],
   "source": [
    "outputs=[]\n",
    "t2=time()\n",
    "count=0\n",
    "for r in reviews_list:\n",
    "    prompt=prompt_start+\"Review: \"+r +\"\\nOUTPUT-\\n\"\n",
    "    input_ids = tokenizer(prompt, return_tensors=\"pt\").input_ids\n",
    "    input_ids = input_ids.to('cuda')\n",
    "    \n",
    "    sequences = model(\n",
    "        prompt,\n",
    "        do_sample=True,\n",
    "        top_k=10,\n",
    "        temperature=0.1,\n",
    "        top_p=0.95,\n",
    "        num_return_sequences=1,\n",
    "        eos_token_id=tokenizer.eos_token_id,\n",
    "        max_length=600,\n",
    "    )\n",
    "    outputs.append(sequences[0]['generated_text'])\n",
    "    count+=1\n",
    "    if (count%100==0):\n",
    "        print(\"count\",count)\n",
    "        t=time()-t2\n",
    "        print(\"time\",t)\n",
    "    if (count==1000):\n",
    "        break\n",
    "        "
   ]
  },
  {
   "cell_type": "markdown",
   "metadata": {},
   "source": [
    "only done computation for 1000 egs as for 1000 it is taking 2 hours then it will require much computation for 1Lakh reviews"
   ]
  },
  {
   "cell_type": "code",
   "execution_count": 28,
   "metadata": {},
   "outputs": [],
   "source": [
    "n =len(reviews_list)\n",
    "for i in range(1000,n):\n",
    "    outputs.append(\"\")\n",
    "    "
   ]
  },
  {
   "cell_type": "code",
   "execution_count": 29,
   "metadata": {},
   "outputs": [],
   "source": [
    "# Assuming df is your DataFrame\n",
    "df_result['results']=outputs\n",
    "df_result.to_csv('llm_output.csv', index=False)"
   ]
  },
  {
   "cell_type": "code",
   "execution_count": 31,
   "metadata": {},
   "outputs": [
    {
     "data": {
      "text/html": [
       "<div>\n",
       "<style scoped>\n",
       "    .dataframe tbody tr th:only-of-type {\n",
       "        vertical-align: middle;\n",
       "    }\n",
       "\n",
       "    .dataframe tbody tr th {\n",
       "        vertical-align: top;\n",
       "    }\n",
       "\n",
       "    .dataframe thead th {\n",
       "        text-align: right;\n",
       "    }\n",
       "</style>\n",
       "<table border=\"1\" class=\"dataframe\">\n",
       "  <thead>\n",
       "    <tr style=\"text-align: right;\">\n",
       "      <th></th>\n",
       "      <th>reviewId</th>\n",
       "      <th>content</th>\n",
       "      <th>score</th>\n",
       "      <th>at</th>\n",
       "      <th>results</th>\n",
       "    </tr>\n",
       "  </thead>\n",
       "  <tbody>\n",
       "    <tr>\n",
       "      <th>0</th>\n",
       "      <td>f2a7f983-75d9-4c3b-b306-4c4772b5ad5b</td>\n",
       "      <td>There is no clarity for the services and there...</td>\n",
       "      <td>1</td>\n",
       "      <td>2023-08-04 10:20:04</td>\n",
       "      <td>\\nProblem is about to classify the following c...</td>\n",
       "    </tr>\n",
       "    <tr>\n",
       "      <th>1</th>\n",
       "      <td>d7f92130-0430-4eb0-8582-aac4c6770abc</td>\n",
       "      <td>I just can't find your phone no. Or call me ba...</td>\n",
       "      <td>1</td>\n",
       "      <td>2023-06-01 13:08:48</td>\n",
       "      <td>\\nProblem is about to classify the following c...</td>\n",
       "    </tr>\n",
       "    <tr>\n",
       "      <th>2</th>\n",
       "      <td>f25b2b7b-eaf3-4a3f-9c2d-8aed464aca1d</td>\n",
       "      <td>App does not open when you need it to open and...</td>\n",
       "      <td>1</td>\n",
       "      <td>2023-08-29 03:25:49</td>\n",
       "      <td>\\nProblem is about to classify the following c...</td>\n",
       "    </tr>\n",
       "    <tr>\n",
       "      <th>3</th>\n",
       "      <td>78dab723-dc59-4f21-8ffb-723d6b1fedb3</td>\n",
       "      <td>The application is becoming more and more unus...</td>\n",
       "      <td>2</td>\n",
       "      <td>2023-08-15 14:49:02</td>\n",
       "      <td>\\nProblem is about to classify the following c...</td>\n",
       "    </tr>\n",
       "    <tr>\n",
       "      <th>4</th>\n",
       "      <td>af1a9654-77ae-4bb9-8977-37e13b5d408f</td>\n",
       "      <td>Pretty good app but it was hard to use in the ...</td>\n",
       "      <td>4</td>\n",
       "      <td>2023-08-25 23:45:13</td>\n",
       "      <td>\\nProblem is about to classify the following c...</td>\n",
       "    </tr>\n",
       "  </tbody>\n",
       "</table>\n",
       "</div>"
      ],
      "text/plain": [
       "                               reviewId  \\\n",
       "0  f2a7f983-75d9-4c3b-b306-4c4772b5ad5b   \n",
       "1  d7f92130-0430-4eb0-8582-aac4c6770abc   \n",
       "2  f25b2b7b-eaf3-4a3f-9c2d-8aed464aca1d   \n",
       "3  78dab723-dc59-4f21-8ffb-723d6b1fedb3   \n",
       "4  af1a9654-77ae-4bb9-8977-37e13b5d408f   \n",
       "\n",
       "                                             content  score  \\\n",
       "0  There is no clarity for the services and there...      1   \n",
       "1  I just can't find your phone no. Or call me ba...      1   \n",
       "2  App does not open when you need it to open and...      1   \n",
       "3  The application is becoming more and more unus...      2   \n",
       "4  Pretty good app but it was hard to use in the ...      4   \n",
       "\n",
       "                    at                                            results  \n",
       "0  2023-08-04 10:20:04  \\nProblem is about to classify the following c...  \n",
       "1  2023-06-01 13:08:48  \\nProblem is about to classify the following c...  \n",
       "2  2023-08-29 03:25:49  \\nProblem is about to classify the following c...  \n",
       "3  2023-08-15 14:49:02  \\nProblem is about to classify the following c...  \n",
       "4  2023-08-25 23:45:13  \\nProblem is about to classify the following c...  "
      ]
     },
     "execution_count": 31,
     "metadata": {},
     "output_type": "execute_result"
    }
   ],
   "source": [
    "df_result.head()"
   ]
  },
  {
   "cell_type": "code",
   "execution_count": 60,
   "metadata": {},
   "outputs": [
    {
     "name": "stdout",
     "output_type": "stream",
     "text": [
      "\n",
      "Problem is about to classify the following customer reviews as either \"Platform-Specific\" or \"Service-Specific\" based on the context of the review. Additionally, extract keywords that correspond to the identified category. For each review, provide a label and a list of relevant keywords. \n",
      "Context: Some online platforms like Urban Company,Angi etc have started online booking of services. These platforms connect professionals to customers and facilitate the scheduling of services. Platform-Specific reviews are related to app,customer call, pricing and booking  related, the User Interface (UI) is bad). Service-Specific reviews are related to quality of the service, professionalism or their behaviour.\n",
      "Here are some INPUT-OUTPUT examples for your reference-\n",
      "INPUT-\n",
      "Review: App does not open when you need it to open and if it does it is so slow...horrible I have been trying to cancel my booking but it does not happen and the app starts working just when the partner is about to come and then you cannot cancel and is forced to take the service. Pathetic The more number of service you take higher are the taxes without explanation\n",
      "OUTPUT-\n",
      "Keywords: [App,booking, taxes]\n",
      "Label: Platform-Specific\n",
      "INPUT-\n",
      "Review: Their 'professionals' are anything but professional. They are impunctual, indisciplined, not reachable, not accountable, not responsible. They switch off the tracking, dont answer the phone, u name it. Its better to get the services from the neighborhood vendors. Theres no way to upload the video here as to how their app and workers work in tandem to fool the customer. Hopeless service.\n",
      "OUTPUT-\n",
      "Keywords: [professionals,service]\n",
      "Label: Service-Specific\n",
      "INPUT-\n",
      "Review: App does not open when you need it to open and if it does it is so slow...horrible I have been trying to cancel my booking but it does not happen and the app starts working just when the partner is about to come and then you cannot cancel and is forced to take the service. Pathetic The more number of service you take higher are the taxes without explanation\n",
      "OUTPUT-\n",
      "Keywords: [App,booking, taxes]\n",
      "Label: Platform-Specific\n",
      "INPUT-\n",
      "Review: Their 'professionals' are anything but professional. They are impunctual, indisciplined, not reachable, not accountable, not responsible. They switch off the tracking, dont answer the phone, u name it. Its better to get the services from the neighborhood vendors. Theres no way to upload the video here as to how their app and workers work in tandem to fool the customer. Hopeless service.\n",
      "OUTPUT-\n",
      "\n"
     ]
    }
   ],
   "source": [
    "print(df_result['results'][2])"
   ]
  },
  {
   "cell_type": "code",
   "execution_count": 63,
   "metadata": {},
   "outputs": [],
   "source": [
    "outputs100=df_result['results'][:100]\n",
    "keywords_list=[]\n",
    "llm_predicted=[]"
   ]
  },
  {
   "cell_type": "code",
   "execution_count": 64,
   "metadata": {},
   "outputs": [],
   "source": [
    "for i in range(100):\n",
    "    output_section = re.findall(r'OUTPUT-\\n(.+?)\\n(.+?)\\n', outputs100[i], re.DOTALL)[2:]\n",
    "    # Extracting keywords and label from each tuple\n",
    "    extracted_data = [(re.findall(r'\\[([^\\]]+)\\]', keywords)[0].split(', '), label.split(': ')[1]) for keywords, label in output_section]\n",
    "    keywords_list.append(extracted_data[0][0])\n",
    "    llm_predicted.append(extracted_data[0][1].strip()[:-9])"
   ]
  },
  {
   "cell_type": "code",
   "execution_count": 65,
   "metadata": {},
   "outputs": [
    {
     "data": {
      "text/plain": [
       "[['services', 'tarrifs'],\n",
       " ['phone no', 'call me back', 'customer care'],\n",
       " ['App,booking', 'taxes'],\n",
       " ['app', 'service', 'customer support'],\n",
       " ['app', 'people'],\n",
       " ['app', 'support', 'cleaning'],\n",
       " ['app', 'booking', 'premium'],\n",
       " ['booking', 'app', 'payment'],\n",
       " ['shine', 'service'],\n",
       " ['booking', 'reschedule', 'call']]"
      ]
     },
     "execution_count": 65,
     "metadata": {},
     "output_type": "execute_result"
    }
   ],
   "source": [
    "keywords_list[:10]"
   ]
  },
  {
   "cell_type": "code",
   "execution_count": 66,
   "metadata": {},
   "outputs": [
    {
     "data": {
      "text/plain": [
       "['Service',\n",
       " 'Platform',\n",
       " 'Platform',\n",
       " 'Platform',\n",
       " 'Platform',\n",
       " 'Platform',\n",
       " 'Platform',\n",
       " 'Platform',\n",
       " 'Service',\n",
       " 'Platform']"
      ]
     },
     "execution_count": 66,
     "metadata": {},
     "output_type": "execute_result"
    }
   ],
   "source": [
    "llm_predicted[:10]"
   ]
  },
  {
   "cell_type": "code",
   "execution_count": 68,
   "metadata": {},
   "outputs": [
    {
     "data": {
      "text/html": [
       "<div>\n",
       "<style scoped>\n",
       "    .dataframe tbody tr th:only-of-type {\n",
       "        vertical-align: middle;\n",
       "    }\n",
       "\n",
       "    .dataframe tbody tr th {\n",
       "        vertical-align: top;\n",
       "    }\n",
       "\n",
       "    .dataframe thead th {\n",
       "        text-align: right;\n",
       "    }\n",
       "</style>\n",
       "<table border=\"1\" class=\"dataframe\">\n",
       "  <thead>\n",
       "    <tr style=\"text-align: right;\">\n",
       "      <th></th>\n",
       "      <th>reviewId</th>\n",
       "      <th>content</th>\n",
       "      <th>score</th>\n",
       "      <th>at</th>\n",
       "      <th>results</th>\n",
       "    </tr>\n",
       "  </thead>\n",
       "  <tbody>\n",
       "    <tr>\n",
       "      <th>0</th>\n",
       "      <td>f2a7f983-75d9-4c3b-b306-4c4772b5ad5b</td>\n",
       "      <td>There is no clarity for the services and there...</td>\n",
       "      <td>1</td>\n",
       "      <td>2023-08-04 10:20:04</td>\n",
       "      <td>\\nProblem is about to classify the following c...</td>\n",
       "    </tr>\n",
       "    <tr>\n",
       "      <th>1</th>\n",
       "      <td>d7f92130-0430-4eb0-8582-aac4c6770abc</td>\n",
       "      <td>I just can't find your phone no. Or call me ba...</td>\n",
       "      <td>1</td>\n",
       "      <td>2023-06-01 13:08:48</td>\n",
       "      <td>\\nProblem is about to classify the following c...</td>\n",
       "    </tr>\n",
       "    <tr>\n",
       "      <th>2</th>\n",
       "      <td>f25b2b7b-eaf3-4a3f-9c2d-8aed464aca1d</td>\n",
       "      <td>App does not open when you need it to open and...</td>\n",
       "      <td>1</td>\n",
       "      <td>2023-08-29 03:25:49</td>\n",
       "      <td>\\nProblem is about to classify the following c...</td>\n",
       "    </tr>\n",
       "    <tr>\n",
       "      <th>3</th>\n",
       "      <td>78dab723-dc59-4f21-8ffb-723d6b1fedb3</td>\n",
       "      <td>The application is becoming more and more unus...</td>\n",
       "      <td>2</td>\n",
       "      <td>2023-08-15 14:49:02</td>\n",
       "      <td>\\nProblem is about to classify the following c...</td>\n",
       "    </tr>\n",
       "    <tr>\n",
       "      <th>4</th>\n",
       "      <td>af1a9654-77ae-4bb9-8977-37e13b5d408f</td>\n",
       "      <td>Pretty good app but it was hard to use in the ...</td>\n",
       "      <td>4</td>\n",
       "      <td>2023-08-25 23:45:13</td>\n",
       "      <td>\\nProblem is about to classify the following c...</td>\n",
       "    </tr>\n",
       "  </tbody>\n",
       "</table>\n",
       "</div>"
      ],
      "text/plain": [
       "                               reviewId  \\\n",
       "0  f2a7f983-75d9-4c3b-b306-4c4772b5ad5b   \n",
       "1  d7f92130-0430-4eb0-8582-aac4c6770abc   \n",
       "2  f25b2b7b-eaf3-4a3f-9c2d-8aed464aca1d   \n",
       "3  78dab723-dc59-4f21-8ffb-723d6b1fedb3   \n",
       "4  af1a9654-77ae-4bb9-8977-37e13b5d408f   \n",
       "\n",
       "                                             content  score  \\\n",
       "0  There is no clarity for the services and there...      1   \n",
       "1  I just can't find your phone no. Or call me ba...      1   \n",
       "2  App does not open when you need it to open and...      1   \n",
       "3  The application is becoming more and more unus...      2   \n",
       "4  Pretty good app but it was hard to use in the ...      4   \n",
       "\n",
       "                    at                                            results  \n",
       "0  2023-08-04 10:20:04  \\nProblem is about to classify the following c...  \n",
       "1  2023-06-01 13:08:48  \\nProblem is about to classify the following c...  \n",
       "2  2023-08-29 03:25:49  \\nProblem is about to classify the following c...  \n",
       "3  2023-08-15 14:49:02  \\nProblem is about to classify the following c...  \n",
       "4  2023-08-25 23:45:13  \\nProblem is about to classify the following c...  "
      ]
     },
     "execution_count": 68,
     "metadata": {},
     "output_type": "execute_result"
    }
   ],
   "source": [
    "df100=df_result.head(100)\n",
    "df100.head()"
   ]
  },
  {
   "cell_type": "code",
   "execution_count": 69,
   "metadata": {},
   "outputs": [
    {
     "name": "stderr",
     "output_type": "stream",
     "text": [
      "/tmp/ipykernel_9345/3847253093.py:1: SettingWithCopyWarning: \n",
      "A value is trying to be set on a copy of a slice from a DataFrame.\n",
      "Try using .loc[row_indexer,col_indexer] = value instead\n",
      "\n",
      "See the caveats in the documentation: https://pandas.pydata.org/pandas-docs/stable/user_guide/indexing.html#returning-a-view-versus-a-copy\n",
      "  df100[\"llm_predicted\"]=llm_predicted\n",
      "/tmp/ipykernel_9345/3847253093.py:2: SettingWithCopyWarning: \n",
      "A value is trying to be set on a copy of a slice from a DataFrame.\n",
      "Try using .loc[row_indexer,col_indexer] = value instead\n",
      "\n",
      "See the caveats in the documentation: https://pandas.pydata.org/pandas-docs/stable/user_guide/indexing.html#returning-a-view-versus-a-copy\n",
      "  df100[\"keywords_list\"]=keywords_list\n"
     ]
    },
    {
     "data": {
      "text/html": [
       "<div>\n",
       "<style scoped>\n",
       "    .dataframe tbody tr th:only-of-type {\n",
       "        vertical-align: middle;\n",
       "    }\n",
       "\n",
       "    .dataframe tbody tr th {\n",
       "        vertical-align: top;\n",
       "    }\n",
       "\n",
       "    .dataframe thead th {\n",
       "        text-align: right;\n",
       "    }\n",
       "</style>\n",
       "<table border=\"1\" class=\"dataframe\">\n",
       "  <thead>\n",
       "    <tr style=\"text-align: right;\">\n",
       "      <th></th>\n",
       "      <th>reviewId</th>\n",
       "      <th>content</th>\n",
       "      <th>score</th>\n",
       "      <th>at</th>\n",
       "      <th>results</th>\n",
       "      <th>llm_predicted</th>\n",
       "      <th>keywords_list</th>\n",
       "    </tr>\n",
       "  </thead>\n",
       "  <tbody>\n",
       "    <tr>\n",
       "      <th>0</th>\n",
       "      <td>f2a7f983-75d9-4c3b-b306-4c4772b5ad5b</td>\n",
       "      <td>There is no clarity for the services and there...</td>\n",
       "      <td>1</td>\n",
       "      <td>2023-08-04 10:20:04</td>\n",
       "      <td>\\nProblem is about to classify the following c...</td>\n",
       "      <td>Service</td>\n",
       "      <td>[services, tarrifs]</td>\n",
       "    </tr>\n",
       "    <tr>\n",
       "      <th>1</th>\n",
       "      <td>d7f92130-0430-4eb0-8582-aac4c6770abc</td>\n",
       "      <td>I just can't find your phone no. Or call me ba...</td>\n",
       "      <td>1</td>\n",
       "      <td>2023-06-01 13:08:48</td>\n",
       "      <td>\\nProblem is about to classify the following c...</td>\n",
       "      <td>Platform</td>\n",
       "      <td>[phone no, call me back, customer care]</td>\n",
       "    </tr>\n",
       "    <tr>\n",
       "      <th>2</th>\n",
       "      <td>f25b2b7b-eaf3-4a3f-9c2d-8aed464aca1d</td>\n",
       "      <td>App does not open when you need it to open and...</td>\n",
       "      <td>1</td>\n",
       "      <td>2023-08-29 03:25:49</td>\n",
       "      <td>\\nProblem is about to classify the following c...</td>\n",
       "      <td>Platform</td>\n",
       "      <td>[App,booking, taxes]</td>\n",
       "    </tr>\n",
       "    <tr>\n",
       "      <th>3</th>\n",
       "      <td>78dab723-dc59-4f21-8ffb-723d6b1fedb3</td>\n",
       "      <td>The application is becoming more and more unus...</td>\n",
       "      <td>2</td>\n",
       "      <td>2023-08-15 14:49:02</td>\n",
       "      <td>\\nProblem is about to classify the following c...</td>\n",
       "      <td>Platform</td>\n",
       "      <td>[app, service, customer support]</td>\n",
       "    </tr>\n",
       "    <tr>\n",
       "      <th>4</th>\n",
       "      <td>af1a9654-77ae-4bb9-8977-37e13b5d408f</td>\n",
       "      <td>Pretty good app but it was hard to use in the ...</td>\n",
       "      <td>4</td>\n",
       "      <td>2023-08-25 23:45:13</td>\n",
       "      <td>\\nProblem is about to classify the following c...</td>\n",
       "      <td>Platform</td>\n",
       "      <td>[app, people]</td>\n",
       "    </tr>\n",
       "  </tbody>\n",
       "</table>\n",
       "</div>"
      ],
      "text/plain": [
       "                               reviewId  \\\n",
       "0  f2a7f983-75d9-4c3b-b306-4c4772b5ad5b   \n",
       "1  d7f92130-0430-4eb0-8582-aac4c6770abc   \n",
       "2  f25b2b7b-eaf3-4a3f-9c2d-8aed464aca1d   \n",
       "3  78dab723-dc59-4f21-8ffb-723d6b1fedb3   \n",
       "4  af1a9654-77ae-4bb9-8977-37e13b5d408f   \n",
       "\n",
       "                                             content  score  \\\n",
       "0  There is no clarity for the services and there...      1   \n",
       "1  I just can't find your phone no. Or call me ba...      1   \n",
       "2  App does not open when you need it to open and...      1   \n",
       "3  The application is becoming more and more unus...      2   \n",
       "4  Pretty good app but it was hard to use in the ...      4   \n",
       "\n",
       "                    at                                            results  \\\n",
       "0  2023-08-04 10:20:04  \\nProblem is about to classify the following c...   \n",
       "1  2023-06-01 13:08:48  \\nProblem is about to classify the following c...   \n",
       "2  2023-08-29 03:25:49  \\nProblem is about to classify the following c...   \n",
       "3  2023-08-15 14:49:02  \\nProblem is about to classify the following c...   \n",
       "4  2023-08-25 23:45:13  \\nProblem is about to classify the following c...   \n",
       "\n",
       "  llm_predicted                            keywords_list  \n",
       "0       Service                      [services, tarrifs]  \n",
       "1      Platform  [phone no, call me back, customer care]  \n",
       "2      Platform                     [App,booking, taxes]  \n",
       "3      Platform         [app, service, customer support]  \n",
       "4      Platform                            [app, people]  "
      ]
     },
     "execution_count": 69,
     "metadata": {},
     "output_type": "execute_result"
    }
   ],
   "source": [
    "df100[\"llm_predicted\"]=llm_predicted\n",
    "df100[\"keywords_list\"]=keywords_list\n",
    "df100.head()"
   ]
  },
  {
   "cell_type": "code",
   "execution_count": 70,
   "metadata": {},
   "outputs": [],
   "source": [
    "df100.to_csv('llm_predictions100.csv', index=False)"
   ]
  }
 ],
 "metadata": {
  "kernelspec": {
   "display_name": "Python 3 (ipykernel)",
   "language": "python",
   "name": "python3"
  },
  "language_info": {
   "codemirror_mode": {
    "name": "ipython",
    "version": 3
   },
   "file_extension": ".py",
   "mimetype": "text/x-python",
   "name": "python",
   "nbconvert_exporter": "python",
   "pygments_lexer": "ipython3",
   "version": "3.11.5"
  }
 },
 "nbformat": 4,
 "nbformat_minor": 4
}
